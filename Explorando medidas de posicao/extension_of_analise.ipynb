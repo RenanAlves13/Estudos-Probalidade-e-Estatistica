{
 "cells": [
  {
   "cell_type": "markdown",
   "id": "3424ec53",
   "metadata": {},
   "source": [
    "### Analyzing if some features are ordered according to a normal distribution"
   ]
  },
  {
   "cell_type": "code",
   "execution_count": null,
   "id": "40cf0eb9",
   "metadata": {},
   "outputs": [],
   "source": [
    "import pandas as pd\n",
    "import os\n",
    "import numpy as np"
   ]
  },
  {
   "cell_type": "code",
   "execution_count": null,
   "id": "82532fea",
   "metadata": {},
   "outputs": [],
   "source": [
    "array = df.to_numpy()"
   ]
  },
  {
   "cell_type": "code",
   "execution_count": null,
   "id": "39fd8d15",
   "metadata": {},
   "outputs": [],
   "source": [
    "# 1. Histograma\n",
    "plt.hist(data, bins=30, density=True, alpha=0.6, color=\"blue\")\n",
    "plt.title(\"Histograma da Feature\")\n",
    "plt.show()"
   ]
  }
 ],
 "metadata": {
  "kernelspec": {
   "display_name": "base",
   "language": "python",
   "name": "python3"
  },
  "language_info": {
   "name": "python",
   "version": "3.12.7"
  }
 },
 "nbformat": 4,
 "nbformat_minor": 5
}
