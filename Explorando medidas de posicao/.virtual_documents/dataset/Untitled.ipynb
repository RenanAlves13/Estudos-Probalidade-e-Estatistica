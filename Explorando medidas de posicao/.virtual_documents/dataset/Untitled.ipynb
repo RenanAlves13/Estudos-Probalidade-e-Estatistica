import pandas as pd
import os
import matplotlib.pyplot as plt


path = r"C:/Users/Renanzin/.cache/kagglehub/datasets/sumedh1507/teen-phone-addiction/versions/1/"

print(os.listdir(path))


dataset = pd.read_csv(f"{path}{os.listdir(path)[0]}")


print(dataset.columns)


dataset.head()


colunas = ['Daily_Usage_Hours', 
                      'Sleep_Hours', 
                      'Academic_Performance',
                      'Social_Interactions', 
                      'Exercise_Hours', 
                      'Anxiety_Level',
                      'Depression_Level', 
                      'Self_Esteem', 
                      'Parental_Control',
                      'Screen_Time_Before_Bed', 
                      'Phone_Checks_Per_Day', 
                      'Apps_Used_Daily',
                      'Time_on_Social_Media', 
                      'Time_on_Gaming', 
                      'Time_on_Education', 
                      'Family_Communication', 
                      'Weekend_Usage_Hours',
                      'Addiction_Level']


# Calculando a mediana de cada coluna
median_by_age = dataset.groupby('Age')[colunas].median()
print(median_by_age)


media_by_age = dataset.groupby('Age')[colunas].mean()





print(media_by_age['Daily_Usage_Hours'])

for i in  colunas:
    media_by_column = media_by_age[i]

    media_by_column = pd.Series(media_by_column, name=i)
    media_by_column.index.name = 'Age'

    plt.figure(figsize=(10, 6)) 
    media_by_column.plot(kind='bar', color='skyblue')
    
    plt.title('Daily_Usage_Hours mean by age')
    plt.xlabel('Age')
    plt.ylabel('Daily Usage Hours Mean')
    
    plt.xticks(rotation=45)
    plt.grid(axis='y', linestyle='--', alpha=0.7) 
    
    plt.tight_layout()
    plt.savefig(path_to, dpi=300, bbox_inches='tight')
    plt.show()
    plt.close()


plt.bar(media_by_age['Age'], media_by_age['Daily_Usage_Hours'])

# Adicionando títulos e rótulos
plt.xlabel('Categorias')
plt.ylabel('Valores')
plt.title('Meu Primeiro Gráfico de Barras')

# Exibindo o gráfico
plt.show()
